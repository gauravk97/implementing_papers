{
 "cells": [
  {
   "cell_type": "code",
   "execution_count": 4,
   "metadata": {
    "collapsed": true
   },
   "outputs": [],
   "source": [
    "import os\n",
    "os.chdir('../ICDAR_2015/data/')\n",
    "import numpy as np\n",
    "import pandas as pd"
   ]
  },
  {
   "cell_type": "code",
   "execution_count": 5,
   "metadata": {},
   "outputs": [
    {
     "data": {
      "text/plain": [
       "['train_labels.csv',\n",
       " 'val_labels.csv',\n",
       " 'ch4_training_images',\n",
       " 'gt_rect_train',\n",
       " 'gt_rect_test',\n",
       " 'original_gt',\n",
       " 'ch4_test_images']"
      ]
     },
     "execution_count": 5,
     "metadata": {},
     "output_type": "execute_result"
    }
   ],
   "source": [
    "os.listdir()"
   ]
  },
  {
   "cell_type": "code",
   "execution_count": 7,
   "metadata": {
    "collapsed": true
   },
   "outputs": [],
   "source": [
    "train = pd.read_csv(\"train_labels.csv\", header=None)"
   ]
  },
  {
   "cell_type": "code",
   "execution_count": 8,
   "metadata": {
    "collapsed": true
   },
   "outputs": [],
   "source": [
    "ab = train[train[train.columns[4]]=='img_1.jpg']"
   ]
  },
  {
   "cell_type": "code",
   "execution_count": 9,
   "metadata": {},
   "outputs": [
    {
     "data": {
      "text/html": [
       "<div>\n",
       "<style>\n",
       "    .dataframe thead tr:only-child th {\n",
       "        text-align: right;\n",
       "    }\n",
       "\n",
       "    .dataframe thead th {\n",
       "        text-align: left;\n",
       "    }\n",
       "\n",
       "    .dataframe tbody tr th {\n",
       "        vertical-align: top;\n",
       "    }\n",
       "</style>\n",
       "<table border=\"1\" class=\"dataframe\">\n",
       "  <thead>\n",
       "    <tr style=\"text-align: right;\">\n",
       "      <th></th>\n",
       "      <th>0</th>\n",
       "      <th>1</th>\n",
       "      <th>2</th>\n",
       "      <th>3</th>\n",
       "      <th>4</th>\n",
       "      <th>5</th>\n",
       "    </tr>\n",
       "  </thead>\n",
       "  <tbody>\n",
       "    <tr>\n",
       "      <th>0</th>\n",
       "      <td>377</td>\n",
       "      <td>465</td>\n",
       "      <td>117</td>\n",
       "      <td>130</td>\n",
       "      <td>img_1.jpg</td>\n",
       "      <td>1</td>\n",
       "    </tr>\n",
       "    <tr>\n",
       "      <th>1</th>\n",
       "      <td>493</td>\n",
       "      <td>519</td>\n",
       "      <td>115</td>\n",
       "      <td>131</td>\n",
       "      <td>img_1.jpg</td>\n",
       "      <td>1</td>\n",
       "    </tr>\n",
       "    <tr>\n",
       "      <th>2</th>\n",
       "      <td>374</td>\n",
       "      <td>409</td>\n",
       "      <td>155</td>\n",
       "      <td>170</td>\n",
       "      <td>img_1.jpg</td>\n",
       "      <td>1</td>\n",
       "    </tr>\n",
       "    <tr>\n",
       "      <th>3</th>\n",
       "      <td>492</td>\n",
       "      <td>551</td>\n",
       "      <td>151</td>\n",
       "      <td>170</td>\n",
       "      <td>img_1.jpg</td>\n",
       "      <td>1</td>\n",
       "    </tr>\n",
       "    <tr>\n",
       "      <th>4</th>\n",
       "      <td>376</td>\n",
       "      <td>422</td>\n",
       "      <td>198</td>\n",
       "      <td>212</td>\n",
       "      <td>img_1.jpg</td>\n",
       "      <td>1</td>\n",
       "    </tr>\n",
       "    <tr>\n",
       "      <th>5</th>\n",
       "      <td>494</td>\n",
       "      <td>539</td>\n",
       "      <td>189</td>\n",
       "      <td>206</td>\n",
       "      <td>img_1.jpg</td>\n",
       "      <td>1</td>\n",
       "    </tr>\n",
       "    <tr>\n",
       "      <th>6</th>\n",
       "      <td>372</td>\n",
       "      <td>494</td>\n",
       "      <td>0</td>\n",
       "      <td>86</td>\n",
       "      <td>img_1.jpg</td>\n",
       "      <td>1</td>\n",
       "    </tr>\n",
       "  </tbody>\n",
       "</table>\n",
       "</div>"
      ],
      "text/plain": [
       "     0    1    2    3          4  5\n",
       "0  377  465  117  130  img_1.jpg  1\n",
       "1  493  519  115  131  img_1.jpg  1\n",
       "2  374  409  155  170  img_1.jpg  1\n",
       "3  492  551  151  170  img_1.jpg  1\n",
       "4  376  422  198  212  img_1.jpg  1\n",
       "5  494  539  189  206  img_1.jpg  1\n",
       "6  372  494    0   86  img_1.jpg  1"
      ]
     },
     "execution_count": 9,
     "metadata": {},
     "output_type": "execute_result"
    }
   ],
   "source": [
    "ab"
   ]
  },
  {
   "cell_type": "code",
   "execution_count": 10,
   "metadata": {
    "collapsed": true
   },
   "outputs": [],
   "source": [
    "img_height = 448\n",
    "img_width = 448\n",
    "S = 7\n",
    "B = 1\n",
    "C = 2\n",
    "grid_cell_h = img_height/S\n",
    "grid_cell_w = img_width/S"
   ]
  },
  {
   "cell_type": "code",
   "execution_count": 11,
   "metadata": {
    "collapsed": true
   },
   "outputs": [],
   "source": [
    "a = 0\n",
    "b = 0\n",
    "grid_x = []\n",
    "grid_y = []\n",
    "for i in range(S):\n",
    "    grid_x.append([a, a+img_height/S])\n",
    "    grid_y.append([b, b+img_width/S])\n",
    "    a += img_height/S\n",
    "    b += img_width/S"
   ]
  },
  {
   "cell_type": "code",
   "execution_count": 12,
   "metadata": {
    "collapsed": true
   },
   "outputs": [],
   "source": [
    "def sparsify(y, c):\n",
    "        'Returns labels in binary NumPy array'\n",
    "        return np.array([1 if y == j else 0 for j in range(c)])"
   ]
  },
  {
   "cell_type": "code",
   "execution_count": 13,
   "metadata": {
    "collapsed": true
   },
   "outputs": [],
   "source": [
    "def change_coordinates_for_yolo(x):\n",
    "    '''\n",
    "    from ['xmin', 'xmax', 'ymin', 'ymax', 'image_name', 'class_id'] to [x, y, w, h]\n",
    "    where x, y are wrt grid section and w, h are wrt the whole image\n",
    "    '''\n",
    "    output = np.zeros((S, S, 5*B+C))\n",
    "#     print(x.shape)\n",
    "    for b_ in range(x.shape[0]):\n",
    "#         print(b_)\n",
    "        [xmin, xmax, ymin, ymax] = x.iloc[b_,:4].values\n",
    "        [xmin, xmax, ymin, ymax] = [xmin/1280*448, xmax/1280*448, ymin/720*448, ymax/720*448]\n",
    "        class_ = x.iloc[b_,-1]\n",
    "        class_ = sparsify(class_, C)\n",
    "#         print(class_)\n",
    "        xc, yc = (xmax+xmin)/2.0, (ymax+ymin)/2.0\n",
    "#         print(xc, yc)\n",
    "        w, h = (xmax-xmin), (ymax-ymin)\n",
    "        for i,j in enumerate(grid_x):\n",
    "            for k,l in enumerate(grid_y):\n",
    "                if xc>j[0] and xc<j[1] and yc>l[0] and yc<l[1]:\n",
    "#                     print(i, j, k, l)\n",
    "                    arr_ = [xc%grid_cell_w/grid_cell_w, yc%grid_cell_h/grid_cell_h, w/img_width, h/img_height, 1]\n",
    "                    arr_.extend(class_)\n",
    "#                     print(arr_)\n",
    "                    output[i,k,:] = np.array(arr_) \n",
    "    \n",
    "    return output"
   ]
  },
  {
   "cell_type": "code",
   "execution_count": 14,
   "metadata": {},
   "outputs": [],
   "source": [
    "a = change_coordinates_for_yolo(ab)"
   ]
  },
  {
   "cell_type": "code",
   "execution_count": 16,
   "metadata": {},
   "outputs": [
    {
     "data": {
      "text/plain": [
       "(7, 7, 7)"
      ]
     },
     "execution_count": 16,
     "metadata": {},
     "output_type": "execute_result"
    }
   ],
   "source": [
    "a.shape"
   ]
  }
 ],
 "metadata": {
  "kernelspec": {
   "display_name": "Python 3",
   "language": "python",
   "name": "python3"
  },
  "language_info": {
   "codemirror_mode": {
    "name": "ipython",
    "version": 3
   },
   "file_extension": ".py",
   "mimetype": "text/x-python",
   "name": "python",
   "nbconvert_exporter": "python",
   "pygments_lexer": "ipython3",
   "version": "3.6.1"
  }
 },
 "nbformat": 4,
 "nbformat_minor": 2
}
