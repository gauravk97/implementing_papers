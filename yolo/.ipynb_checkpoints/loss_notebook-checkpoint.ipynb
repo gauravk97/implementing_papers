{
 "cells": [
  {
   "cell_type": "code",
   "execution_count": 1,
   "metadata": {},
   "outputs": [
    {
     "name": "stderr",
     "output_type": "stream",
     "text": [
      "Using TensorFlow backend.\n"
     ]
    }
   ],
   "source": [
    "import numpy as np\n",
    "import pandas as pd\n",
    "import keras.backend as K"
   ]
  },
  {
   "cell_type": "code",
   "execution_count": 2,
   "metadata": {
    "collapsed": true
   },
   "outputs": [],
   "source": [
    "img_height = 448\n",
    "img_width = 448\n",
    "S = 7\n",
    "B = 1\n",
    "C = 2\n",
    "grid_cell_h = img_height/S\n",
    "grid_cell_w = img_width/S"
   ]
  },
  {
   "cell_type": "code",
   "execution_count": 3,
   "metadata": {
    "collapsed": true
   },
   "outputs": [],
   "source": [
    "a = 0\n",
    "b = 0\n",
    "grid_x = []\n",
    "grid_y = []\n",
    "for i in range(S):\n",
    "    grid_x.append([a, a+img_height/S])\n",
    "    grid_y.append([b, b+img_width/S])\n",
    "    a += img_height/S\n",
    "    b += img_width/S"
   ]
  },
  {
   "cell_type": "code",
   "execution_count": 17,
   "metadata": {},
   "outputs": [],
   "source": [
    "y_pred = np.random.rand(S, S, (5*B+C))\n",
    "y_true = np.zeros((S, S, 5*B+C))\n",
    "y_true[6, 0, :] = np.random.rand(7,)\n",
    "y_true[1, 6, :] = np.random.rand(7,)\n",
    "y_true[4, 2, :] = np.random.rand(7,)"
   ]
  },
  {
   "cell_type": "code",
   "execution_count": 20,
   "metadata": {},
   "outputs": [],
   "source": [
    "y_true_ = K.variable(y_true)\n",
    "y_pred_ = K.variable(y_pred)"
   ]
  },
  {
   "cell_type": "code",
   "execution_count": 22,
   "metadata": {},
   "outputs": [],
   "source": [
    "def loss():\n",
    "    pass"
   ]
  },
  {
   "cell_type": "code",
   "execution_count": 23,
   "metadata": {
    "collapsed": true
   },
   "outputs": [],
   "source": [
    "def loss_K():\n",
    "    pass"
   ]
  }
 ],
 "metadata": {
  "kernelspec": {
   "display_name": "Python 3",
   "language": "python",
   "name": "python3"
  },
  "language_info": {
   "codemirror_mode": {
    "name": "ipython",
    "version": 3
   },
   "file_extension": ".py",
   "mimetype": "text/x-python",
   "name": "python",
   "nbconvert_exporter": "python",
   "pygments_lexer": "ipython3",
   "version": "3.6.1"
  }
 },
 "nbformat": 4,
 "nbformat_minor": 2
}
