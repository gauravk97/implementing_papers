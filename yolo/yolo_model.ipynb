{
 "cells": [
  {
   "cell_type": "code",
   "execution_count": 1,
   "metadata": {},
   "outputs": [
    {
     "name": "stderr",
     "output_type": "stream",
     "text": [
      "Using TensorFlow backend.\n"
     ]
    }
   ],
   "source": [
    "import keras.backend as K\n",
    "from keras.layers import Conv2D, MaxPooling2D, Dense, Activation, Input, Flatten\n",
    "import tensorflow as tf"
   ]
  },
  {
   "cell_type": "code",
   "execution_count": 2,
   "metadata": {
    "collapsed": true
   },
   "outputs": [],
   "source": [
    "from keras.models import Model"
   ]
  },
  {
   "cell_type": "code",
   "execution_count": 3,
   "metadata": {
    "collapsed": true
   },
   "outputs": [],
   "source": [
    "import cv2\n",
    "import pandas as pd\n",
    "import numpy as np"
   ]
  },
  {
   "cell_type": "code",
   "execution_count": 4,
   "metadata": {
    "collapsed": true
   },
   "outputs": [],
   "source": [
    "arr = cv2.imread('../ICDAR_2015/data/ch4_training_images/img_1.jpg')\n",
    "arr = cv2.resize(arr, (448,448))\n",
    "arr.shape\n",
    "arr = np.array(arr).reshape((1,448,448,3))\n",
    "daa = pd.read_csv(\"../ICDAR_2015/data/train_labels.csv\",header=None)\n",
    "annot = daa[daa[daa.columns[4]]=='img_1.jpg']\n",
    "annot = annot.iloc[:, :4]"
   ]
  },
  {
   "cell_type": "code",
   "execution_count": 5,
   "metadata": {},
   "outputs": [
    {
     "data": {
      "text/html": [
       "<div>\n",
       "<style>\n",
       "    .dataframe thead tr:only-child th {\n",
       "        text-align: right;\n",
       "    }\n",
       "\n",
       "    .dataframe thead th {\n",
       "        text-align: left;\n",
       "    }\n",
       "\n",
       "    .dataframe tbody tr th {\n",
       "        vertical-align: top;\n",
       "    }\n",
       "</style>\n",
       "<table border=\"1\" class=\"dataframe\">\n",
       "  <thead>\n",
       "    <tr style=\"text-align: right;\">\n",
       "      <th></th>\n",
       "      <th>0</th>\n",
       "      <th>1</th>\n",
       "      <th>2</th>\n",
       "      <th>3</th>\n",
       "    </tr>\n",
       "  </thead>\n",
       "  <tbody>\n",
       "    <tr>\n",
       "      <th>0</th>\n",
       "      <td>377</td>\n",
       "      <td>465</td>\n",
       "      <td>117</td>\n",
       "      <td>130</td>\n",
       "    </tr>\n",
       "    <tr>\n",
       "      <th>1</th>\n",
       "      <td>493</td>\n",
       "      <td>519</td>\n",
       "      <td>115</td>\n",
       "      <td>131</td>\n",
       "    </tr>\n",
       "    <tr>\n",
       "      <th>2</th>\n",
       "      <td>374</td>\n",
       "      <td>409</td>\n",
       "      <td>155</td>\n",
       "      <td>170</td>\n",
       "    </tr>\n",
       "    <tr>\n",
       "      <th>3</th>\n",
       "      <td>492</td>\n",
       "      <td>551</td>\n",
       "      <td>151</td>\n",
       "      <td>170</td>\n",
       "    </tr>\n",
       "    <tr>\n",
       "      <th>4</th>\n",
       "      <td>376</td>\n",
       "      <td>422</td>\n",
       "      <td>198</td>\n",
       "      <td>212</td>\n",
       "    </tr>\n",
       "    <tr>\n",
       "      <th>5</th>\n",
       "      <td>494</td>\n",
       "      <td>539</td>\n",
       "      <td>189</td>\n",
       "      <td>206</td>\n",
       "    </tr>\n",
       "    <tr>\n",
       "      <th>6</th>\n",
       "      <td>372</td>\n",
       "      <td>494</td>\n",
       "      <td>0</td>\n",
       "      <td>86</td>\n",
       "    </tr>\n",
       "  </tbody>\n",
       "</table>\n",
       "</div>"
      ],
      "text/plain": [
       "     0    1    2    3\n",
       "0  377  465  117  130\n",
       "1  493  519  115  131\n",
       "2  374  409  155  170\n",
       "3  492  551  151  170\n",
       "4  376  422  198  212\n",
       "5  494  539  189  206\n",
       "6  372  494    0   86"
      ]
     },
     "execution_count": 5,
     "metadata": {},
     "output_type": "execute_result"
    }
   ],
   "source": [
    "annot"
   ]
  },
  {
   "cell_type": "code",
   "execution_count": 6,
   "metadata": {
    "collapsed": true
   },
   "outputs": [],
   "source": [
    "def leaky_relu(x):\n",
    "    return K.tf.where(K.tf.greater(x,K.tf.zeros_like(x)), x, 0.1*x)"
   ]
  },
  {
   "cell_type": "code",
   "execution_count": 7,
   "metadata": {
    "collapsed": true
   },
   "outputs": [],
   "source": [
    "# from tensorflow.python.framework import ops\n",
    "# from tensorflow.python.ops import math_ops\n",
    "# def l(features, alpha=0.1, name=''):\n",
    "#     with ops.name_scope(name, \"LeakyRelu\", [features, alpha]):\n",
    "#         features = ops.convert_to_tensor(features, name=\"features\")\n",
    "#         alpha = ops.convert_to_tensor(alpha, name=\"alpha\")\n",
    "#         return math_ops.maximum(alpha * features, features)\n",
    "# didnt work any differently lol"
   ]
  },
  {
   "cell_type": "code",
   "execution_count": 8,
   "metadata": {
    "collapsed": true
   },
   "outputs": [],
   "source": [
    "# a = K.variable([1, 3, 0, -0.1, -5, 10, -23])\n",
    "# K.eval(leaky_relu(a))\n",
    "# # K.eval(K.tf.nn.leaky_relu(a))\n",
    "# K.eval(l(a))"
   ]
  },
  {
   "cell_type": "code",
   "execution_count": 9,
   "metadata": {},
   "outputs": [
    {
     "name": "stdout",
     "output_type": "stream",
     "text": [
      "_________________________________________________________________\n",
      "Layer (type)                 Output Shape              Param #   \n",
      "=================================================================\n",
      "input_1 (InputLayer)         (None, 448, 448, 3)       0         \n",
      "_________________________________________________________________\n",
      "conv2d_1 (Conv2D)            (None, 224, 224, 24)      3552      \n",
      "_________________________________________________________________\n",
      "max_pooling2d_1 (MaxPooling2 (None, 112, 112, 24)      0         \n",
      "_________________________________________________________________\n",
      "conv2d_2 (Conv2D)            (None, 112, 112, 192)     41664     \n",
      "_________________________________________________________________\n",
      "max_pooling2d_2 (MaxPooling2 (None, 56, 56, 192)       0         \n",
      "_________________________________________________________________\n",
      "conv2d_3 (Conv2D)            (None, 56, 56, 128)       24704     \n",
      "_________________________________________________________________\n",
      "conv2d_4 (Conv2D)            (None, 56, 56, 256)       295168    \n",
      "_________________________________________________________________\n",
      "conv2d_5 (Conv2D)            (None, 56, 56, 256)       65792     \n",
      "_________________________________________________________________\n",
      "conv2d_6 (Conv2D)            (None, 56, 56, 512)       1180160   \n",
      "_________________________________________________________________\n",
      "max_pooling2d_3 (MaxPooling2 (None, 28, 28, 512)       0         \n",
      "_________________________________________________________________\n",
      "conv2d_7 (Conv2D)            (None, 28, 28, 256)       131328    \n",
      "_________________________________________________________________\n",
      "conv2d_8 (Conv2D)            (None, 28, 28, 512)       1180160   \n",
      "_________________________________________________________________\n",
      "conv2d_9 (Conv2D)            (None, 28, 28, 256)       131328    \n",
      "_________________________________________________________________\n",
      "conv2d_10 (Conv2D)           (None, 28, 28, 512)       1180160   \n",
      "_________________________________________________________________\n",
      "conv2d_11 (Conv2D)           (None, 28, 28, 256)       131328    \n",
      "_________________________________________________________________\n",
      "conv2d_12 (Conv2D)           (None, 28, 28, 512)       1180160   \n",
      "_________________________________________________________________\n",
      "conv2d_13 (Conv2D)           (None, 28, 28, 256)       131328    \n",
      "_________________________________________________________________\n",
      "conv2d_14 (Conv2D)           (None, 28, 28, 512)       1180160   \n",
      "_________________________________________________________________\n",
      "conv2d_15 (Conv2D)           (None, 28, 28, 512)       262656    \n",
      "_________________________________________________________________\n",
      "conv2d_16 (Conv2D)           (None, 28, 28, 1024)      4719616   \n",
      "_________________________________________________________________\n",
      "max_pooling2d_4 (MaxPooling2 (None, 14, 14, 1024)      0         \n",
      "_________________________________________________________________\n",
      "conv2d_17 (Conv2D)           (None, 14, 14, 512)       524800    \n",
      "_________________________________________________________________\n",
      "conv2d_18 (Conv2D)           (None, 14, 14, 1024)      4719616   \n",
      "_________________________________________________________________\n",
      "conv2d_19 (Conv2D)           (None, 14, 14, 512)       524800    \n",
      "_________________________________________________________________\n",
      "conv2d_20 (Conv2D)           (None, 14, 14, 1024)      4719616   \n",
      "_________________________________________________________________\n",
      "conv2d_21 (Conv2D)           (None, 14, 14, 1024)      9438208   \n",
      "_________________________________________________________________\n",
      "conv2d_22 (Conv2D)           (None, 7, 7, 1024)        9438208   \n",
      "_________________________________________________________________\n",
      "conv2d_23 (Conv2D)           (None, 7, 7, 1024)        9438208   \n",
      "_________________________________________________________________\n",
      "conv2d_24 (Conv2D)           (None, 7, 7, 1024)        9438208   \n",
      "_________________________________________________________________\n",
      "dense_1 (Dense)              (None, 7, 7, 4096)        4198400   \n",
      "_________________________________________________________________\n",
      "dense_2 (Dense)              (None, 7, 7, 12)          49164     \n",
      "=================================================================\n",
      "Total params: 64,328,492\n",
      "Trainable params: 64,328,492\n",
      "Non-trainable params: 0\n",
      "_________________________________________________________________\n"
     ]
    }
   ],
   "source": [
    "ip = Input(shape=(448,448,3))\n",
    "x = Conv2D(filters=24, kernel_size=(7,7), strides=(2,2), padding='same', activation=leaky_relu)(ip)\n",
    "x = MaxPooling2D((2,2), 2)(x)\n",
    "x = Conv2D(filters=192, kernel_size=(3,3), padding='same', activation=leaky_relu)(x)\n",
    "x = MaxPooling2D((2,2), 2)(x)\n",
    "x = Conv2D(filters=128, kernel_size=(1,1), padding='same', activation=leaky_relu)(x)\n",
    "x = Conv2D(filters=256, kernel_size=(3,3), padding='same', activation=leaky_relu)(x)\n",
    "x = Conv2D(filters=256, kernel_size=(1,1), padding='same', activation=leaky_relu)(x)\n",
    "x = Conv2D(filters=512, kernel_size=(3,3), padding='same', activation=leaky_relu)(x)\n",
    "x = MaxPooling2D((2,2), 2)(x)\n",
    "x = Conv2D(filters=256, kernel_size=(1,1), padding='same', activation=leaky_relu)(x)\n",
    "x = Conv2D(filters=512, kernel_size=(3,3), padding='same', activation=leaky_relu)(x)\n",
    "x = Conv2D(filters=256, kernel_size=(1,1), padding='same', activation=leaky_relu)(x)\n",
    "x = Conv2D(filters=512, kernel_size=(3,3), padding='same', activation=leaky_relu)(x)\n",
    "x = Conv2D(filters=256, kernel_size=(1,1), padding='same', activation=leaky_relu)(x)\n",
    "x = Conv2D(filters=512, kernel_size=(3,3), padding='same', activation=leaky_relu)(x)\n",
    "x = Conv2D(filters=256, kernel_size=(1,1), padding='same', activation=leaky_relu)(x)\n",
    "x = Conv2D(filters=512, kernel_size=(3,3), padding='same', activation=leaky_relu)(x)\n",
    "x = Conv2D(filters=512, kernel_size=(1,1), padding='same', activation=leaky_relu)(x)\n",
    "x = Conv2D(filters=1024, kernel_size=(3,3), padding='same', activation=leaky_relu)(x)\n",
    "x = MaxPooling2D((2,2), 2)(x)\n",
    "x = Conv2D(filters=512, kernel_size=(1,1), padding='same', activation=leaky_relu)(x)\n",
    "x = Conv2D(filters=1024, kernel_size=(3,3), padding='same', activation=leaky_relu)(x)\n",
    "x = Conv2D(filters=512, kernel_size=(1,1), padding='same', activation=leaky_relu)(x)\n",
    "x = Conv2D(filters=1024, kernel_size=(3,3), padding='same', activation=leaky_relu)(x)\n",
    "x = Conv2D(filters=1024, kernel_size=(3,3), padding='same', activation=leaky_relu)(x)\n",
    "x = Conv2D(filters=1024, kernel_size=(3,3), strides=(2,2), padding='same', activation=leaky_relu)(x)\n",
    "x = Conv2D(filters=1024, kernel_size=(3,3), padding='same', activation=leaky_relu)(x)\n",
    "x = Conv2D(filters=1024, kernel_size=(3,3), padding='same', activation=leaky_relu)(x)\n",
    "# x = Flatten()(x)\n",
    "x = Dense(4096, activation=leaky_relu)(x)\n",
    "x = Dense(12)(x)\n",
    "\n",
    "\n",
    "m = Model(inputs=ip, outputs=x)\n",
    "m.summary()"
   ]
  }
 ],
 "metadata": {
  "kernelspec": {
   "display_name": "Python 3",
   "language": "python",
   "name": "python3"
  },
  "language_info": {
   "codemirror_mode": {
    "name": "ipython",
    "version": 3
   },
   "file_extension": ".py",
   "mimetype": "text/x-python",
   "name": "python",
   "nbconvert_exporter": "python",
   "pygments_lexer": "ipython3",
   "version": "3.6.1"
  }
 },
 "nbformat": 4,
 "nbformat_minor": 2
}
