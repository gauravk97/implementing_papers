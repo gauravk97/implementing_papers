{
 "cells": [
  {
   "cell_type": "markdown",
   "metadata": {},
   "source": [
    "&nbsp; &nbsp; &nbsp; &nbsp; &nbsp; &nbsp; &nbsp; &nbsp; &nbsp; &nbsp; &nbsp; &nbsp; &nbsp; &nbsp; &nbsp; &nbsp; &nbsp; &nbsp; &nbsp; &nbsp; &nbsp; &nbsp; &nbsp; &nbsp; &nbsp; &nbsp; &nbsp; &nbsp; &nbsp; &nbsp; &nbsp; &nbsp; &nbsp; &nbsp; &nbsp; &nbsp; &nbsp; &nbsp; &nbsp; &nbsp; &nbsp; &nbsp; &nbsp; &nbsp; &nbsp; &nbsp; &nbsp; <b>YOLO Loss Function</b>"
   ]
  },
  {
   "cell_type": "markdown",
   "metadata": {},
   "source": [
    "<img src=\"https://i.stack.imgur.com/bQAdd.jpg\">"
   ]
  },
  {
   "cell_type": "markdown",
   "metadata": {},
   "source": [
    "### Set up"
   ]
  },
  {
   "cell_type": "code",
   "execution_count": 1,
   "metadata": {},
   "outputs": [
    {
     "name": "stderr",
     "output_type": "stream",
     "text": [
      "Using TensorFlow backend.\n"
     ]
    }
   ],
   "source": [
    "import numpy as np\n",
    "import pandas as pd\n",
    "import keras.backend as K"
   ]
  },
  {
   "cell_type": "code",
   "execution_count": 2,
   "metadata": {
    "collapsed": true
   },
   "outputs": [],
   "source": [
    "img_height = 448\n",
    "img_width = 448\n",
    "S = 7\n",
    "B = 2\n",
    "C = 2\n",
    "grid_cell_h = img_height/S\n",
    "grid_cell_w = img_width/S"
   ]
  },
  {
   "cell_type": "code",
   "execution_count": 3,
   "metadata": {
    "collapsed": true
   },
   "outputs": [],
   "source": [
    "a = 0\n",
    "b = 0\n",
    "grid_x = []\n",
    "grid_y = []\n",
    "for i in range(S):\n",
    "    grid_x.append([a, a+img_height/S])\n",
    "    grid_y.append([b, b+img_width/S])\n",
    "    a += img_height/S\n",
    "    b += img_width/S"
   ]
  },
  {
   "cell_type": "code",
   "execution_count": 4,
   "metadata": {
    "collapsed": true
   },
   "outputs": [],
   "source": [
    "y_pred = np.random.rand(S, S, (5*B+C))\n",
    "y_true = np.zeros((S, S, 5*B+C))\n",
    "y_true[6, 0, :5] = np.random.rand(5,)\n",
    "y_true[6, 0, -C:] = np.random.rand(C,)\n",
    "y_true[1, 6, :] = np.random.rand(5*B+C,)\n",
    "y_true[4, 2, :] = np.random.rand(5*B+C,)\n",
    "# y_pred[6, 0, :] = np.random.rand(7,)\n",
    "# y_pred[0, 6, :] = np.random.rand(7,)"
   ]
  },
  {
   "cell_type": "markdown",
   "metadata": {},
   "source": [
    "<pre>third dimension of y_true and y_pred: 5*B+C\n",
    " - last C values are for classes\n",
    " - order of each Box values: x, y, w, h, C \n",
    "</pre>"
   ]
  },
  {
   "cell_type": "markdown",
   "metadata": {},
   "source": [
    "### Experiments"
   ]
  },
  {
   "cell_type": "code",
   "execution_count": 25,
   "metadata": {},
   "outputs": [
    {
     "data": {
      "text/plain": [
       "(7, 7, 5)"
      ]
     },
     "execution_count": 25,
     "metadata": {},
     "output_type": "execute_result"
    }
   ],
   "source": [
    "i = 0\n",
    "t = (np.sum(y_true[:, :, i*5:(i+1)*5], axis=2)>0).astype(int)\n",
    "stacked = np.stack([t for ind in range(5)], axis=2)\n",
    "stacked.shape\n",
    "\n",
    "np.sum(stacked, axis=2)"
   ]
  },
  {
   "cell_type": "code",
   "execution_count": 45,
   "metadata": {},
   "outputs": [
    {
     "data": {
      "text/plain": [
       "(7, 7, 12)"
      ]
     },
     "execution_count": 45,
     "metadata": {},
     "output_type": "execute_result"
    }
   ],
   "source": [
    "\n",
    "I_1  = np.zeros((S,S,5*B+C), dtype='uint8')# i,j\n",
    "for i in range(B):\n",
    "    t = (np.sum(y_true[:, :, i*5:(i+1)*5], axis=2)>0).astype(int)\n",
    "    stacked = np.stack([t for ind in range(5)], axis=2)\n",
    "    I_1[:, :, i*5:(i+1)*5] = stacked\n",
    "\n",
    "(I_1*y_true).shape"
   ]
  },
  {
   "cell_type": "code",
   "execution_count": 46,
   "metadata": {},
   "outputs": [
    {
     "data": {
      "text/plain": [
       "(7, 7, 12)"
      ]
     },
     "execution_count": 46,
     "metadata": {},
     "output_type": "execute_result"
    }
   ],
   "source": [
    "I_1_noobj = np.logical_not(I_1).astype(int)\n",
    "I_1_noobj[:, :, -C:] = np.zeros((S,S,2))\n",
    "\n",
    "I_1_noobj.shape"
   ]
  },
  {
   "cell_type": "code",
   "execution_count": 55,
   "metadata": {
    "collapsed": true
   },
   "outputs": [],
   "source": [
    "a = y_true[:, :, -C+1:]\n",
    "b = (np.sum(a, axis=2)>0).astype(int)\n",
    "I_2 = np.stack([b for ind in range(C)], axis=2)"
   ]
  },
  {
   "cell_type": "code",
   "execution_count": 40,
   "metadata": {
    "scrolled": true
   },
   "outputs": [
    {
     "name": "stdout",
     "output_type": "stream",
     "text": [
      "[4, 9]\n"
     ]
    },
    {
     "data": {
      "text/plain": [
       "[4, 9]"
      ]
     },
     "execution_count": 40,
     "metadata": {},
     "output_type": "execute_result"
    }
   ],
   "source": [
    "B = 2\n",
    "# y_true = np.zeros((S, S, 5*B))\n",
    "C_ = list(range(4, 5*B+1, 5))\n",
    "print(C_) \n",
    "I__ = y_true[:, :, C_]\n",
    "I__.shape\n",
    "\n",
    "C_ = np.array([4])\n",
    "C_ = [j+i*5 for i in range(B) for j in C_]\n",
    "C_"
   ]
  },
  {
   "cell_type": "code",
   "execution_count": 120,
   "metadata": {},
   "outputs": [
    {
     "data": {
      "text/plain": [
       "0.73057063989319271"
      ]
     },
     "execution_count": 120,
     "metadata": {},
     "output_type": "execute_result"
    }
   ],
   "source": [
    "x_ = np.array([0,1])\n",
    "x__ = []\n",
    "for i in range(B):\n",
    "    x__.extend(x_+i*5)\n",
    "    \n",
    "# y_true[:, :, B:2]\n",
    "x__\n",
    "y_true[:, :, x__].shape\n",
    "a_ = y_pred[:, :, x__]\n",
    "b_ = y_true[:, :, x__]\n",
    "np.sum(((a_-b_)**2)*I_1)"
   ]
  },
  {
   "cell_type": "code",
   "execution_count": 25,
   "metadata": {
    "collapsed": true
   },
   "outputs": [],
   "source": [
    "#one liner\n",
    "x__1 = [j+i*5 for i in range(B) for j in x_]\n",
    "# print([(i, j) for i in range(5) for j in range(5,10)]) # to understand"
   ]
  },
  {
   "cell_type": "code",
   "execution_count": 121,
   "metadata": {},
   "outputs": [
    {
     "data": {
      "text/plain": [
       "0.059362076506496629"
      ]
     },
     "execution_count": 121,
     "metadata": {},
     "output_type": "execute_result"
    }
   ],
   "source": [
    "w_ = np.array([2,3])\n",
    "w__ = []\n",
    "for i in range(B):\n",
    "    w__.extend(w_+i*5)\n",
    "# y_true[:, :, B:2]\n",
    "w__\n",
    "# y_true[:, :, w__].shape\n",
    "a_ = np.sqrt(y_pred[:, :, w__])\n",
    "b_ = np.sqrt(y_true[:, :, w__])\n",
    "np.sum(((a_-b_)**2)*I_1)"
   ]
  },
  {
   "cell_type": "code",
   "execution_count": 122,
   "metadata": {},
   "outputs": [
    {
     "data": {
      "text/plain": [
       "0.73079649517707657"
      ]
     },
     "execution_count": 122,
     "metadata": {},
     "output_type": "execute_result"
    }
   ],
   "source": [
    "c_ = np.array([4])\n",
    "c__ = []\n",
    "for i in range(B):\n",
    "    c__.extend(c_+i*5)\n",
    "# y_true[:, :, B:2]\n",
    "c__\n",
    "a_ = y_true[:, :, c__]\n",
    "b_ = y_pred[:, :, c__]\n",
    "np.sum(((a_-b_)**2)*I_1)"
   ]
  },
  {
   "cell_type": "code",
   "execution_count": 125,
   "metadata": {},
   "outputs": [
    {
     "data": {
      "text/plain": [
       "0.8497298726897492"
      ]
     },
     "execution_count": 125,
     "metadata": {},
     "output_type": "execute_result"
    }
   ],
   "source": [
    "a_ = y_true[:, :, -C:]\n",
    "b_ = y_pred[:, :, -C:]\n",
    "np.sum(((a_-b_)**2)*I_2)"
   ]
  },
  {
   "cell_type": "markdown",
   "metadata": {},
   "source": [
    "### Final loss in Numpy"
   ]
  },
  {
   "cell_type": "code",
   "execution_count": 7,
   "metadata": {
    "collapsed": true
   },
   "outputs": [],
   "source": [
    "lamdba_1 = 5\n",
    "lambda_2 = 0.05"
   ]
  },
  {
   "cell_type": "code",
   "execution_count": 71,
   "metadata": {
    "collapsed": true
   },
   "outputs": [],
   "source": [
    "def loss(y_pred, y_true):\n",
    "    '''getting the first term'''\n",
    "    I_1  = np.zeros((S,S,5*B+C), dtype='uint8')# i,j\n",
    "    for i in range(B):\n",
    "        t = (np.sum(y_true[:, :, i*5:(i+1)*5], axis=2)>0).astype(int)\n",
    "        stacked = np.stack([t for ind in range(5)], axis=2)\n",
    "        I_1[:, :, i*5:(i+1)*5] = stacked\n",
    "\n",
    "    x_ = np.array([0,1])\n",
    "    x__ = [j+i*5 for i in range(B) for j in x_]    \n",
    "    a_ = y_pred[:, :, x__]*I_1[:, :, x__]\n",
    "    b_ = y_true[:, :, x__]*I_1[:, :, x__]\n",
    "\n",
    "    term1 = lamdba_1*np.sum((a_-b_)**2)\n",
    "   \n",
    "    \n",
    "    '''second term'''\n",
    "    w_ = np.array([2,3])\n",
    "    w__ = [j+i*5 for i in range(B) for j in w_]\n",
    "    c_ = np.sqrt(y_pred[:, :, w__])*I_1[:, :, w__]\n",
    "    d_ = np.sqrt(y_true[:, :, w__])*I_1[:, :, w__]\n",
    "\n",
    "    term2 = lamdba_1*np.sum((c_-d_)**2)\n",
    "    \n",
    "    \n",
    "    '''third term'''\n",
    "    C_ = np.array([4])\n",
    "    C_ = [j+i*5 for i in range(B) for j in C_]\n",
    "    e_ = y_pred[:, :, C_]*I_1[:, :, C_]\n",
    "    f_ = y_true[:, :, C_]*I_1[:, :, C_]\n",
    "    term3 = np.sum((e_-f_)**2)\n",
    "    \n",
    "    '''fourth term'''\n",
    "    I_1_noobj = np.logical_not(I_1).astype(int)\n",
    "    I_1_noobj[:, :, -C:] = np.zeros((S,S,2))\n",
    "\n",
    "    g_ = y_pred[:, :, C_]*I_1_noobj[:, :, C_]\n",
    "    h_ = y_true[:, :, C_]*I_1_noobj[:, :, C_]\n",
    "    term4 = lambda_2*np.sum((g_-h_)**2)\n",
    "\n",
    "    '''fifth term'''\n",
    "    \n",
    "    a = y_true[:, :, -C+1:] # 0th class is no object\n",
    "    b = (np.sum(a, axis=2)>0).astype(int)\n",
    "    I_2 = np.stack([b for ind in range(C)], axis=2)\n",
    "    \n",
    "    i_ = y_pred[:, :, -C:]*I_2\n",
    "    j_ = y_true[:, :, -C:]*I_2\n",
    "#     print(i_.shape, j_.shape)\n",
    "    term5 = np.sum((i_-j_)**2)\n",
    "    \n",
    "    \n",
    "    total_loss = term1 + term2 + term3 + term4 + term5\n",
    "    return total_loss"
   ]
  },
  {
   "cell_type": "code",
   "execution_count": 72,
   "metadata": {},
   "outputs": [
    {
     "data": {
      "text/plain": [
       "10.91543715656109"
      ]
     },
     "execution_count": 72,
     "metadata": {},
     "output_type": "execute_result"
    }
   ],
   "source": [
    "loss(y_pred=y_pred, y_true=y_true)"
   ]
  },
  {
   "cell_type": "markdown",
   "metadata": {},
   "source": [
    "### Second Experimentation"
   ]
  },
  {
   "cell_type": "code",
   "execution_count": 4,
   "metadata": {},
   "outputs": [
    {
     "data": {
      "text/plain": [
       "array([[1, 2, 3, 4],\n",
       "       [1, 2, 3, 4],\n",
       "       [1, 2, 3, 4]], dtype=int32)"
      ]
     },
     "execution_count": 4,
     "metadata": {},
     "output_type": "execute_result"
    }
   ],
   "source": [
    "import tensorflow as tf\n",
    "import keras.backend as K\n",
    "vec = K.tf.constant([1, 2, 3, 4])\n",
    "multiply = K.tf.constant([3])\n",
    "\n",
    "K.eval(K.reshape(K.tf.tile(vec, multiply), shape=(multiply[0], tf.shape(vec)[0])))"
   ]
  },
  {
   "cell_type": "code",
   "execution_count": null,
   "metadata": {
    "collapsed": true
   },
   "outputs": [],
   "source": []
  },
  {
   "cell_type": "code",
   "execution_count": null,
   "metadata": {
    "collapsed": true
   },
   "outputs": [],
   "source": []
  },
  {
   "cell_type": "code",
   "execution_count": null,
   "metadata": {
    "collapsed": true
   },
   "outputs": [],
   "source": []
  },
  {
   "cell_type": "code",
   "execution_count": null,
   "metadata": {
    "collapsed": true
   },
   "outputs": [],
   "source": []
  },
  {
   "cell_type": "markdown",
   "metadata": {},
   "source": [
    "## Final loss in Keras / tf"
   ]
  },
  {
   "cell_type": "code",
   "execution_count": 20,
   "metadata": {
    "collapsed": true
   },
   "outputs": [],
   "source": [
    "y_true_ = K.variable(y_true)\n",
    "y_pred_ = K.variable(y_pred)"
   ]
  },
  {
   "cell_type": "code",
   "execution_count": null,
   "metadata": {
    "collapsed": true
   },
   "outputs": [],
   "source": [
    "def custom_loss(self, y_true, y_pred):\n",
    "    mask_shape = tf.shape(y_true)[:4]\n",
    "\n",
    "    cell_x = tf.to_float(tf.reshape(tf.tile(tf.range(self.grid_w), [self.grid_h]), (1, self.grid_h, self.grid_w, 1, 1)))\n",
    "    cell_y = tf.transpose(cell_x, (0,2,1,3,4))\n",
    "\n",
    "    cell_grid = tf.tile(tf.concat([cell_x,cell_y], -1), [self.batch_size, 1, 1, self.nb_box, 1])\n",
    "\n",
    "    coord_mask = tf.zeros(mask_shape)\n",
    "    conf_mask  = tf.zeros(mask_shape)\n",
    "    class_mask = tf.zeros(mask_shape)\n",
    "\n",
    "    seen = tf.Variable(0.)\n",
    "    total_recall = tf.Variable(0.)\n",
    "\n",
    "    \"\"\"\n",
    "    Adjust prediction\n",
    "    \"\"\"\n",
    "    ### adjust x and y      \n",
    "    pred_box_xy = tf.sigmoid(y_pred[..., :2]) + cell_grid\n",
    "\n",
    "    ### adjust w and h\n",
    "    pred_box_wh = tf.exp(y_pred[..., 2:4]) * np.reshape(self.anchors, [1,1,1,self.nb_box,2])\n",
    "\n",
    "    ### adjust confidence\n",
    "    pred_box_conf = tf.sigmoid(y_pred[..., 4])\n",
    "\n",
    "    ### adjust class probabilities\n",
    "    pred_box_class = y_pred[..., 5:]\n",
    "\n",
    "    \"\"\"\n",
    "    Adjust ground truth\n",
    "    \"\"\"\n",
    "    ### adjust x and y\n",
    "    true_box_xy = y_true[..., 0:2] # relative position to the containing cell\n",
    "\n",
    "    ### adjust w and h\n",
    "    true_box_wh = y_true[..., 2:4] # number of cells accross, horizontally and vertically\n",
    "\n",
    "    ### adjust confidence\n",
    "    true_wh_half = true_box_wh / 2.\n",
    "    true_mins    = true_box_xy - true_wh_half\n",
    "    true_maxes   = true_box_xy + true_wh_half\n",
    "\n",
    "    pred_wh_half = pred_box_wh / 2.\n",
    "    pred_mins    = pred_box_xy - pred_wh_half\n",
    "    pred_maxes   = pred_box_xy + pred_wh_half       \n",
    "\n",
    "    intersect_mins  = tf.maximum(pred_mins,  true_mins)\n",
    "    intersect_maxes = tf.minimum(pred_maxes, true_maxes)\n",
    "    intersect_wh    = tf.maximum(intersect_maxes - intersect_mins, 0.)\n",
    "    intersect_areas = intersect_wh[..., 0] * intersect_wh[..., 1]\n",
    "\n",
    "    true_areas = true_box_wh[..., 0] * true_box_wh[..., 1]\n",
    "    pred_areas = pred_box_wh[..., 0] * pred_box_wh[..., 1]\n",
    "\n",
    "    union_areas = pred_areas + true_areas - intersect_areas\n",
    "    iou_scores  = tf.truediv(intersect_areas, union_areas)\n",
    "\n",
    "    true_box_conf = iou_scores * y_true[..., 4]\n",
    "\n",
    "    ### adjust class probabilities\n",
    "    true_box_class = tf.argmax(y_true[..., 5:], -1)\n",
    "\n",
    "    \"\"\"\n",
    "    Determine the masks\n",
    "    \"\"\"\n",
    "    ### coordinate mask: simply the position of the ground truth boxes (the predictors)\n",
    "    coord_mask = tf.expand_dims(y_true[..., 4], axis=-1) * self.coord_scale\n",
    "\n",
    "    ### confidence mask: penelize predictors + penalize boxes with low IOU\n",
    "    # penalize the confidence of the boxes, which have IOU with some ground truth box < 0.6\n",
    "    true_xy = self.true_boxes[..., 0:2]\n",
    "    true_wh = self.true_boxes[..., 2:4]\n",
    "\n",
    "    true_wh_half = true_wh / 2.\n",
    "    true_mins    = true_xy - true_wh_half\n",
    "    true_maxes   = true_xy + true_wh_half\n",
    "\n",
    "    pred_xy = tf.expand_dims(pred_box_xy, 4)\n",
    "    pred_wh = tf.expand_dims(pred_box_wh, 4)\n",
    "\n",
    "    pred_wh_half = pred_wh / 2.\n",
    "    pred_mins    = pred_xy - pred_wh_half\n",
    "    pred_maxes   = pred_xy + pred_wh_half    \n",
    "\n",
    "    intersect_mins  = tf.maximum(pred_mins,  true_mins)\n",
    "    intersect_maxes = tf.minimum(pred_maxes, true_maxes)\n",
    "    intersect_wh    = tf.maximum(intersect_maxes - intersect_mins, 0.)\n",
    "    intersect_areas = intersect_wh[..., 0] * intersect_wh[..., 1]\n",
    "\n",
    "    true_areas = true_wh[..., 0] * true_wh[..., 1]\n",
    "    pred_areas = pred_wh[..., 0] * pred_wh[..., 1]\n",
    "\n",
    "    union_areas = pred_areas + true_areas - intersect_areas\n",
    "    iou_scores  = tf.truediv(intersect_areas, union_areas)\n",
    "\n",
    "    best_ious = tf.reduce_max(iou_scores, axis=4)\n",
    "    conf_mask = conf_mask + tf.to_float(best_ious < 0.6) * (1 - y_true[..., 4]) * self.no_object_scale\n",
    "\n",
    "    # penalize the confidence of the boxes, which are reponsible for corresponding ground truth box\n",
    "    conf_mask = conf_mask + y_true[..., 4] * self.object_scale\n",
    "\n",
    "    ### class mask: simply the position of the ground truth boxes (the predictors)\n",
    "    class_mask = y_true[..., 4] * tf.gather(self.class_wt, true_box_class) * self.class_scale       \n",
    "\n",
    "    \"\"\"\n",
    "    Warm-up training\n",
    "    \"\"\"\n",
    "    no_boxes_mask = tf.to_float(coord_mask < self.coord_scale/2.)\n",
    "    seen = tf.assign_add(seen, 1.)\n",
    "\n",
    "    true_box_xy, true_box_wh, coord_mask = tf.cond(tf.less(seen, self.warmup_bs), \n",
    "                          lambda: [true_box_xy + (0.5 + cell_grid) * no_boxes_mask, \n",
    "                                   true_box_wh + tf.ones_like(true_box_wh) * np.reshape(self.anchors, [1,1,1,self.nb_box,2]) * no_boxes_mask, \n",
    "                                   tf.ones_like(coord_mask)],\n",
    "                          lambda: [true_box_xy, \n",
    "                                   true_box_wh,\n",
    "                                   coord_mask])\n",
    "\n",
    "    \"\"\"\n",
    "    Finalize the loss\n",
    "    \"\"\"\n",
    "    nb_coord_box = tf.reduce_sum(tf.to_float(coord_mask > 0.0))\n",
    "    nb_conf_box  = tf.reduce_sum(tf.to_float(conf_mask  > 0.0))\n",
    "    nb_class_box = tf.reduce_sum(tf.to_float(class_mask > 0.0))\n",
    "\n",
    "    loss_xy    = tf.reduce_sum(tf.square(true_box_xy-pred_box_xy)     * coord_mask) / (nb_coord_box + 1e-6) / 2.\n",
    "    loss_wh    = tf.reduce_sum(tf.square(true_box_wh-pred_box_wh)     * coord_mask) / (nb_coord_box + 1e-6) / 2.\n",
    "    loss_conf  = tf.reduce_sum(tf.square(true_box_conf-pred_box_conf) * conf_mask)  / (nb_conf_box  + 1e-6) / 2.\n",
    "    loss_class = tf.nn.sparse_softmax_cross_entropy_with_logits(labels=true_box_class, logits=pred_box_class)\n",
    "    loss_class = tf.reduce_sum(loss_class * class_mask) / (nb_class_box + 1e-6)\n",
    "\n",
    "    loss = loss_xy + loss_wh + loss_conf + loss_class\n",
    "\n",
    "    if self.debug:\n",
    "        nb_true_box = tf.reduce_sum(y_true[..., 4])\n",
    "        nb_pred_box = tf.reduce_sum(tf.to_float(true_box_conf > 0.5) * tf.to_float(pred_box_conf > 0.3))\n",
    "\n",
    "        current_recall = nb_pred_box/(nb_true_box + 1e-6)\n",
    "        total_recall = tf.assign_add(total_recall, current_recall) \n",
    "\n",
    "        loss = tf.Print(loss, [tf.zeros((1))], message='Dummy Line \\t', summarize=1000)\n",
    "        loss = tf.Print(loss, [loss_xy], message='Loss XY \\t', summarize=1000)\n",
    "        loss = tf.Print(loss, [loss_wh], message='Loss WH \\t', summarize=1000)\n",
    "        loss = tf.Print(loss, [loss_conf], message='Loss Conf \\t', summarize=1000)\n",
    "        loss = tf.Print(loss, [loss_class], message='Loss Class \\t', summarize=1000)\n",
    "        loss = tf.Print(loss, [loss], message='Total Loss \\t', summarize=1000)\n",
    "        loss = tf.Print(loss, [current_recall], message='Current Recall \\t', summarize=1000)\n",
    "        loss = tf.Print(loss, [total_recall/seen], message='Average Recall \\t', summarize=1000)\n",
    "\n",
    "    return loss"
   ]
  },
  {
   "cell_type": "code",
   "execution_count": 23,
   "metadata": {
    "collapsed": true
   },
   "outputs": [],
   "source": [
    "def loss_K():\n",
    "    pass"
   ]
  }
 ],
 "metadata": {
  "kernelspec": {
   "display_name": "Python 3",
   "language": "python",
   "name": "python3"
  },
  "language_info": {
   "codemirror_mode": {
    "name": "ipython",
    "version": 3
   },
   "file_extension": ".py",
   "mimetype": "text/x-python",
   "name": "python",
   "nbconvert_exporter": "python",
   "pygments_lexer": "ipython3",
   "version": "3.6.1"
  }
 },
 "nbformat": 4,
 "nbformat_minor": 2
}
