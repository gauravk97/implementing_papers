{
 "cells": [
  {
   "cell_type": "code",
   "execution_count": 1,
   "metadata": {},
   "outputs": [
    {
     "name": "stderr",
     "output_type": "stream",
     "text": [
      "Using TensorFlow backend.\n"
     ]
    }
   ],
   "source": [
    "import numpy as np\n",
    "import pandas as pd\n",
    "import keras.backend as K"
   ]
  },
  {
   "cell_type": "code",
   "execution_count": 85,
   "metadata": {
    "collapsed": true
   },
   "outputs": [],
   "source": [
    "img_height = 448\n",
    "img_width = 448\n",
    "S = 7\n",
    "B = 1\n",
    "C = 2\n",
    "grid_cell_h = img_height/S\n",
    "grid_cell_w = img_width/S"
   ]
  },
  {
   "cell_type": "code",
   "execution_count": 86,
   "metadata": {
    "collapsed": true
   },
   "outputs": [],
   "source": [
    "a = 0\n",
    "b = 0\n",
    "grid_x = []\n",
    "grid_y = []\n",
    "for i in range(S):\n",
    "    grid_x.append([a, a+img_height/S])\n",
    "    grid_y.append([b, b+img_width/S])\n",
    "    a += img_height/S\n",
    "    b += img_width/S"
   ]
  },
  {
   "cell_type": "code",
   "execution_count": 87,
   "metadata": {
    "collapsed": true
   },
   "outputs": [],
   "source": [
    "y_pred = np.random.rand(S, S, (5*B+C))\n",
    "y_true = np.zeros((S, S, 5*B+C))\n",
    "y_true[6, 0, :] = np.random.rand(7,)\n",
    "y_true[1, 6, :] = np.random.rand(7,)\n",
    "y_true[4, 2, :] = np.random.rand(7,)\n",
    "# y_pred[6, 0, :] = np.random.rand(7,)\n",
    "# y_pred[0, 6, :] = np.random.rand(7,)"
   ]
  },
  {
   "cell_type": "markdown",
   "metadata": {},
   "source": [
    "<pre>third dimension of y_true and y_pred: 5*B+C\n",
    " - last C values are for classes\n",
    " - order of each Box values: x, y, w, h, C \n",
    "</pre>"
   ]
  },
  {
   "cell_type": "code",
   "execution_count": 88,
   "metadata": {
    "collapsed": true
   },
   "outputs": [],
   "source": [
    "I_1  = np.zeros((S,S,B), dtype='uint8')# i,j\n",
    "I_2  = np.zeros((S,S), dtype='uint8')# i"
   ]
  },
  {
   "cell_type": "code",
   "execution_count": 124,
   "metadata": {
    "collapsed": true
   },
   "outputs": [],
   "source": [
    "a = y_true[:, :, -C:]\n",
    "b = (np.sum(a, axis=2)>0).astype(int)\n",
    "I_2 = b\n",
    "I_2 = I_2.reshape((S,S,1))"
   ]
  },
  {
   "cell_type": "code",
   "execution_count": 90,
   "metadata": {
    "scrolled": true
   },
   "outputs": [
    {
     "name": "stdout",
     "output_type": "stream",
     "text": [
      "[4]\n"
     ]
    },
    {
     "data": {
      "text/plain": [
       "(7, 7, 1)"
      ]
     },
     "execution_count": 90,
     "metadata": {},
     "output_type": "execute_result"
    }
   ],
   "source": [
    "# B = 2\n",
    "# y_true = np.zeros((S, S, 5*B))\n",
    "C_ = list(range(4, 5*B+1, 5))\n",
    "print(C_) \n",
    "I_1 = y_true[:, :, C_]\n",
    "I_1.shape"
   ]
  },
  {
   "cell_type": "code",
   "execution_count": 7,
   "metadata": {
    "collapsed": true
   },
   "outputs": [],
   "source": [
    "lamdba_1 = 5\n",
    "lembda_2 = 0.05"
   ]
  },
  {
   "cell_type": "code",
   "execution_count": 20,
   "metadata": {
    "collapsed": true
   },
   "outputs": [],
   "source": [
    "y_true_ = K.variable(y_true)\n",
    "y_pred_ = K.variable(y_pred)"
   ]
  },
  {
   "cell_type": "code",
   "execution_count": 120,
   "metadata": {},
   "outputs": [
    {
     "data": {
      "text/plain": [
       "0.73057063989319271"
      ]
     },
     "execution_count": 120,
     "metadata": {},
     "output_type": "execute_result"
    }
   ],
   "source": [
    "x_ = np.array([0,1])\n",
    "x__ = []\n",
    "for i in range(B):\n",
    "    x__.extend(x_+i*5)\n",
    "# y_true[:, :, B:2]\n",
    "x__\n",
    "y_true[:, :, x__].shape\n",
    "a_ = y_pred[:, :, x__]\n",
    "b_ = y_true[:, :, x__]\n",
    "np.sum(((a_-b_)**2)*I_1)"
   ]
  },
  {
   "cell_type": "code",
   "execution_count": 121,
   "metadata": {},
   "outputs": [
    {
     "data": {
      "text/plain": [
       "0.059362076506496629"
      ]
     },
     "execution_count": 121,
     "metadata": {},
     "output_type": "execute_result"
    }
   ],
   "source": [
    "w_ = np.array([2,3])\n",
    "w__ = []\n",
    "for i in range(B):\n",
    "    w__.extend(w_+i*5)\n",
    "# y_true[:, :, B:2]\n",
    "w__\n",
    "# y_true[:, :, w__].shape\n",
    "a_ = np.sqrt(y_pred[:, :, w__])\n",
    "b_ = np.sqrt(y_true[:, :, w__])\n",
    "np.sum(((a_-b_)**2)*I_1)"
   ]
  },
  {
   "cell_type": "code",
   "execution_count": 122,
   "metadata": {},
   "outputs": [
    {
     "data": {
      "text/plain": [
       "0.73079649517707657"
      ]
     },
     "execution_count": 122,
     "metadata": {},
     "output_type": "execute_result"
    }
   ],
   "source": [
    "c_ = np.array([4])\n",
    "c__ = []\n",
    "for i in range(B):\n",
    "    c__.extend(c_+i*5)\n",
    "# y_true[:, :, B:2]\n",
    "c__\n",
    "a_ = y_true[:, :, c__]\n",
    "b_ = y_pred[:, :, c__]\n",
    "np.sum(((a_-b_)**2)*I_1)"
   ]
  },
  {
   "cell_type": "code",
   "execution_count": 125,
   "metadata": {},
   "outputs": [
    {
     "data": {
      "text/plain": [
       "0.8497298726897492"
      ]
     },
     "execution_count": 125,
     "metadata": {},
     "output_type": "execute_result"
    }
   ],
   "source": [
    "a_ = y_true[:, :, -C:]\n",
    "b_ = y_pred[:, :, -C:]\n",
    "np.sum(((a_-b_)**2)*I_2)"
   ]
  },
  {
   "cell_type": "code",
   "execution_count": 22,
   "metadata": {
    "collapsed": true
   },
   "outputs": [],
   "source": [
    "def loss(y_pred, y_true):\n",
    "    lamdba_1*"
   ]
  },
  {
   "cell_type": "code",
   "execution_count": 23,
   "metadata": {
    "collapsed": true
   },
   "outputs": [],
   "source": [
    "def loss_K():\n",
    "    pass"
   ]
  }
 ],
 "metadata": {
  "kernelspec": {
   "display_name": "Python 3",
   "language": "python",
   "name": "python3"
  },
  "language_info": {
   "codemirror_mode": {
    "name": "ipython",
    "version": 3
   },
   "file_extension": ".py",
   "mimetype": "text/x-python",
   "name": "python",
   "nbconvert_exporter": "python",
   "pygments_lexer": "ipython3",
   "version": "3.6.1"
  }
 },
 "nbformat": 4,
 "nbformat_minor": 2
}
