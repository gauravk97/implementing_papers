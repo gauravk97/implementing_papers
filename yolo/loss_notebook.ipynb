{
 "cells": [
  {
   "cell_type": "markdown",
   "metadata": {},
   "source": [
    "&nbsp; &nbsp; &nbsp; &nbsp; &nbsp; &nbsp; &nbsp; &nbsp; &nbsp; &nbsp; &nbsp; &nbsp; &nbsp; &nbsp; &nbsp; &nbsp; &nbsp; &nbsp; &nbsp; &nbsp; &nbsp; &nbsp; &nbsp; &nbsp; &nbsp; &nbsp; &nbsp; &nbsp; &nbsp; &nbsp; &nbsp; &nbsp; &nbsp; &nbsp; &nbsp; &nbsp; &nbsp; &nbsp; &nbsp; &nbsp; &nbsp; &nbsp; &nbsp; &nbsp; &nbsp; &nbsp; &nbsp; <b>YOLO Loss Function</b>"
   ]
  },
  {
   "cell_type": "markdown",
   "metadata": {},
   "source": [
    "<img src=\"https://i.stack.imgur.com/bQAdd.jpg\">"
   ]
  },
  {
   "cell_type": "markdown",
   "metadata": {},
   "source": [
    "### Set up"
   ]
  },
  {
   "cell_type": "code",
   "execution_count": 1,
   "metadata": {},
   "outputs": [
    {
     "name": "stderr",
     "output_type": "stream",
     "text": [
      "Using TensorFlow backend.\n"
     ]
    }
   ],
   "source": [
    "import numpy as np\n",
    "import pandas as pd\n",
    "import keras.backend as K"
   ]
  },
  {
   "cell_type": "code",
   "execution_count": 2,
   "metadata": {
    "collapsed": true
   },
   "outputs": [],
   "source": [
    "img_height = 448\n",
    "img_width = 448\n",
    "S = 7\n",
    "B = 2\n",
    "C = 2\n",
    "grid_cell_h = img_height/S\n",
    "grid_cell_w = img_width/S"
   ]
  },
  {
   "cell_type": "code",
   "execution_count": 3,
   "metadata": {
    "collapsed": true
   },
   "outputs": [],
   "source": [
    "a = 0\n",
    "b = 0\n",
    "grid_x = []\n",
    "grid_y = []\n",
    "for i in range(S):\n",
    "    grid_x.append([a, a+img_height/S])\n",
    "    grid_y.append([b, b+img_width/S])\n",
    "    a += img_height/S\n",
    "    b += img_width/S"
   ]
  },
  {
   "cell_type": "code",
   "execution_count": 4,
   "metadata": {
    "collapsed": true
   },
   "outputs": [],
   "source": [
    "y_pred = np.random.rand(S, S, (5*B+C))\n",
    "y_true = np.zeros((S, S, 5*B+C))\n",
    "y_true[6, 0, :5] = np.random.rand(5,)\n",
    "y_true[6, 0, -C:] = np.random.rand(C,)\n",
    "y_true[1, 6, :] = np.random.rand(5*B+C,)\n",
    "y_true[4, 2, :] = np.random.rand(5*B+C,)\n",
    "# y_pred[6, 0, :] = np.random.rand(7,)\n",
    "# y_pred[0, 6, :] = np.random.rand(7,)"
   ]
  },
  {
   "cell_type": "markdown",
   "metadata": {},
   "source": [
    "<pre>third dimension of y_true and y_pred: 5*B+C\n",
    " - last C values are for classes\n",
    " - order of each Box values: x, y, w, h, C \n",
    "</pre>"
   ]
  },
  {
   "cell_type": "markdown",
   "metadata": {},
   "source": [
    "### Experiments"
   ]
  },
  {
   "cell_type": "code",
   "execution_count": 25,
   "metadata": {},
   "outputs": [
    {
     "data": {
      "text/plain": [
       "(7, 7, 5)"
      ]
     },
     "execution_count": 25,
     "metadata": {},
     "output_type": "execute_result"
    }
   ],
   "source": [
    "i = 0\n",
    "t = (np.sum(y_true[:, :, i*5:(i+1)*5], axis=2)>0).astype(int)\n",
    "stacked = np.stack([t for ind in range(5)], axis=2)\n",
    "stacked.shape\n",
    "\n",
    "np.sum(stacked, axis=2)"
   ]
  },
  {
   "cell_type": "code",
   "execution_count": 45,
   "metadata": {},
   "outputs": [
    {
     "data": {
      "text/plain": [
       "(7, 7, 12)"
      ]
     },
     "execution_count": 45,
     "metadata": {},
     "output_type": "execute_result"
    }
   ],
   "source": [
    "\n",
    "I_1  = np.zeros((S,S,5*B+C), dtype='uint8')# i,j\n",
    "for i in range(B):\n",
    "    t = (np.sum(y_true[:, :, i*5:(i+1)*5], axis=2)>0).astype(int)\n",
    "    stacked = np.stack([t for ind in range(5)], axis=2)\n",
    "    I_1[:, :, i*5:(i+1)*5] = stacked\n",
    "\n",
    "(I_1*y_true).shape"
   ]
  },
  {
   "cell_type": "code",
   "execution_count": 46,
   "metadata": {},
   "outputs": [
    {
     "data": {
      "text/plain": [
       "(7, 7, 12)"
      ]
     },
     "execution_count": 46,
     "metadata": {},
     "output_type": "execute_result"
    }
   ],
   "source": [
    "I_1_noobj = np.logical_not(I_1).astype(int)\n",
    "I_1_noobj[:, :, -C:] = np.zeros((S,S,2))\n",
    "\n",
    "I_1_noobj.shape"
   ]
  },
  {
   "cell_type": "code",
   "execution_count": 55,
   "metadata": {
    "collapsed": true
   },
   "outputs": [],
   "source": [
    "a = y_true[:, :, -C+1:]\n",
    "b = (np.sum(a, axis=2)>0).astype(int)\n",
    "I_2 = np.stack([b for ind in range(C)], axis=2)"
   ]
  },
  {
   "cell_type": "code",
   "execution_count": 40,
   "metadata": {
    "scrolled": true
   },
   "outputs": [
    {
     "name": "stdout",
     "output_type": "stream",
     "text": [
      "[4, 9]\n"
     ]
    },
    {
     "data": {
      "text/plain": [
       "[4, 9]"
      ]
     },
     "execution_count": 40,
     "metadata": {},
     "output_type": "execute_result"
    }
   ],
   "source": [
    "B = 2\n",
    "# y_true = np.zeros((S, S, 5*B))\n",
    "C_ = list(range(4, 5*B+1, 5))\n",
    "print(C_) \n",
    "I__ = y_true[:, :, C_]\n",
    "I__.shape\n",
    "\n",
    "C_ = np.array([4])\n",
    "C_ = [j+i*5 for i in range(B) for j in C_]\n",
    "C_"
   ]
  },
  {
   "cell_type": "code",
   "execution_count": 120,
   "metadata": {},
   "outputs": [
    {
     "data": {
      "text/plain": [
       "0.73057063989319271"
      ]
     },
     "execution_count": 120,
     "metadata": {},
     "output_type": "execute_result"
    }
   ],
   "source": [
    "x_ = np.array([0,1])\n",
    "x__ = []\n",
    "for i in range(B):\n",
    "    x__.extend(x_+i*5)\n",
    "    \n",
    "# y_true[:, :, B:2]\n",
    "x__\n",
    "y_true[:, :, x__].shape\n",
    "a_ = y_pred[:, :, x__]\n",
    "b_ = y_true[:, :, x__]\n",
    "np.sum(((a_-b_)**2)*I_1)"
   ]
  },
  {
   "cell_type": "code",
   "execution_count": 25,
   "metadata": {
    "collapsed": true
   },
   "outputs": [],
   "source": [
    "#one liner\n",
    "x__1 = [j+i*5 for i in range(B) for j in x_]\n",
    "# print([(i, j) for i in range(5) for j in range(5,10)]) # to understand"
   ]
  },
  {
   "cell_type": "code",
   "execution_count": 121,
   "metadata": {},
   "outputs": [
    {
     "data": {
      "text/plain": [
       "0.059362076506496629"
      ]
     },
     "execution_count": 121,
     "metadata": {},
     "output_type": "execute_result"
    }
   ],
   "source": [
    "w_ = np.array([2,3])\n",
    "w__ = []\n",
    "for i in range(B):\n",
    "    w__.extend(w_+i*5)\n",
    "# y_true[:, :, B:2]\n",
    "w__\n",
    "# y_true[:, :, w__].shape\n",
    "a_ = np.sqrt(y_pred[:, :, w__])\n",
    "b_ = np.sqrt(y_true[:, :, w__])\n",
    "np.sum(((a_-b_)**2)*I_1)"
   ]
  },
  {
   "cell_type": "code",
   "execution_count": 122,
   "metadata": {},
   "outputs": [
    {
     "data": {
      "text/plain": [
       "0.73079649517707657"
      ]
     },
     "execution_count": 122,
     "metadata": {},
     "output_type": "execute_result"
    }
   ],
   "source": [
    "c_ = np.array([4])\n",
    "c__ = []\n",
    "for i in range(B):\n",
    "    c__.extend(c_+i*5)\n",
    "# y_true[:, :, B:2]\n",
    "c__\n",
    "a_ = y_true[:, :, c__]\n",
    "b_ = y_pred[:, :, c__]\n",
    "np.sum(((a_-b_)**2)*I_1)"
   ]
  },
  {
   "cell_type": "code",
   "execution_count": 125,
   "metadata": {},
   "outputs": [
    {
     "data": {
      "text/plain": [
       "0.8497298726897492"
      ]
     },
     "execution_count": 125,
     "metadata": {},
     "output_type": "execute_result"
    }
   ],
   "source": [
    "a_ = y_true[:, :, -C:]\n",
    "b_ = y_pred[:, :, -C:]\n",
    "np.sum(((a_-b_)**2)*I_2)"
   ]
  },
  {
   "cell_type": "markdown",
   "metadata": {},
   "source": [
    "### Final loss in Numpy"
   ]
  },
  {
   "cell_type": "code",
   "execution_count": 7,
   "metadata": {
    "collapsed": true
   },
   "outputs": [],
   "source": [
    "lamdba_1 = 5\n",
    "lambda_2 = 0.05"
   ]
  },
  {
   "cell_type": "code",
   "execution_count": 71,
   "metadata": {
    "collapsed": true
   },
   "outputs": [],
   "source": [
    "def loss(y_pred, y_true):\n",
    "    '''getting the first term'''\n",
    "    I_1  = np.zeros((S,S,5*B+C), dtype='uint8')# i,j\n",
    "    for i in range(B):\n",
    "        t = (np.sum(y_true[:, :, i*5:(i+1)*5], axis=2)>0).astype(int)\n",
    "        stacked = np.stack([t for ind in range(5)], axis=2)\n",
    "        I_1[:, :, i*5:(i+1)*5] = stacked\n",
    "\n",
    "    x_ = np.array([0,1])\n",
    "    x__ = [j+i*5 for i in range(B) for j in x_]    \n",
    "    a_ = y_pred[:, :, x__]*I_1[:, :, x__]\n",
    "    b_ = y_true[:, :, x__]*I_1[:, :, x__]\n",
    "\n",
    "    term1 = lamdba_1*np.sum((a_-b_)**2)\n",
    "   \n",
    "    \n",
    "    '''second term'''\n",
    "    w_ = np.array([2,3])\n",
    "    w__ = [j+i*5 for i in range(B) for j in w_]\n",
    "    c_ = np.sqrt(y_pred[:, :, w__])*I_1[:, :, w__]\n",
    "    d_ = np.sqrt(y_true[:, :, w__])*I_1[:, :, w__]\n",
    "\n",
    "    term2 = lamdba_1*np.sum((c_-d_)**2)\n",
    "    \n",
    "    \n",
    "    '''third term'''\n",
    "    C_ = np.array([4])\n",
    "    C_ = [j+i*5 for i in range(B) for j in C_]\n",
    "    e_ = y_pred[:, :, C_]*I_1[:, :, C_]\n",
    "    f_ = y_true[:, :, C_]*I_1[:, :, C_]\n",
    "    term3 = np.sum((e_-f_)**2)\n",
    "    \n",
    "    '''fourth term'''\n",
    "    I_1_noobj = np.logical_not(I_1).astype(int)\n",
    "    I_1_noobj[:, :, -C:] = np.zeros((S,S,2))\n",
    "\n",
    "    g_ = y_pred[:, :, C_]*I_1_noobj[:, :, C_]\n",
    "    h_ = y_true[:, :, C_]*I_1_noobj[:, :, C_]\n",
    "    term4 = lambda_2*np.sum((g_-h_)**2)\n",
    "\n",
    "    '''fifth term'''\n",
    "    \n",
    "    a = y_true[:, :, -C+1:] # 0th class is no object\n",
    "    b = (np.sum(a, axis=2)>0).astype(int)\n",
    "    I_2 = np.stack([b for ind in range(C)], axis=2)\n",
    "    \n",
    "    i_ = y_pred[:, :, -C:]*I_2\n",
    "    j_ = y_true[:, :, -C:]*I_2\n",
    "#     print(i_.shape, j_.shape)\n",
    "    term5 = np.sum((i_-j_)**2)\n",
    "    \n",
    "    \n",
    "    total_loss = term1 + term2 + term3 + term4 + term5\n",
    "    return total_loss"
   ]
  },
  {
   "cell_type": "code",
   "execution_count": 72,
   "metadata": {},
   "outputs": [
    {
     "data": {
      "text/plain": [
       "10.91543715656109"
      ]
     },
     "execution_count": 72,
     "metadata": {},
     "output_type": "execute_result"
    }
   ],
   "source": [
    "loss(y_pred=y_pred, y_true=y_true)"
   ]
  },
  {
   "cell_type": "markdown",
   "metadata": {},
   "source": [
    "## Final loss in Keras / tf"
   ]
  },
  {
   "cell_type": "code",
   "execution_count": 20,
   "metadata": {
    "collapsed": true
   },
   "outputs": [],
   "source": [
    "y_true_ = K.variable(y_true)\n",
    "y_pred_ = K.variable(y_pred)"
   ]
  },
  {
   "cell_type": "code",
   "execution_count": 23,
   "metadata": {
    "collapsed": true
   },
   "outputs": [],
   "source": [
    "def loss_K():\n",
    "    pass"
   ]
  }
 ],
 "metadata": {
  "kernelspec": {
   "display_name": "Python 3",
   "language": "python",
   "name": "python3"
  },
  "language_info": {
   "codemirror_mode": {
    "name": "ipython",
    "version": 3
   },
   "file_extension": ".py",
   "mimetype": "text/x-python",
   "name": "python",
   "nbconvert_exporter": "python",
   "pygments_lexer": "ipython3",
   "version": "3.6.1"
  }
 },
 "nbformat": 4,
 "nbformat_minor": 2
}
